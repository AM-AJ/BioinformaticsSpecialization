{
  "nbformat": 4,
  "nbformat_minor": 0,
  "metadata": {
    "colab": {
      "provenance": [],
      "authorship_tag": "ABX9TyNaRGGFib3MVkWOVCl/NoUO",
      "include_colab_link": true
    },
    "kernelspec": {
      "name": "python3",
      "display_name": "Python 3"
    },
    "language_info": {
      "name": "python"
    }
  },
  "cells": [
    {
      "cell_type": "markdown",
      "metadata": {
        "id": "view-in-github",
        "colab_type": "text"
      },
      "source": [
        "<a href=\"https://colab.research.google.com/github/AM-AJ/BioinformaticsSpecialization/blob/main/Finding_Hidden_Messages_in_DNA_(Bioinformatics_I).ipynb\" target=\"_parent\"><img src=\"https://colab.research.google.com/assets/colab-badge.svg\" alt=\"Open In Colab\"/></a>"
      ]
    },
    {
      "cell_type": "markdown",
      "source": [
        "# Week 1"
      ],
      "metadata": {
        "id": "DMQrVbnL2Bm8"
      }
    },
    {
      "cell_type": "markdown",
      "source": [
        "# Week 2"
      ],
      "metadata": {
        "id": "xiR4-hxU2emA"
      }
    },
    {
      "cell_type": "markdown",
      "source": [
        "# Week 3"
      ],
      "metadata": {
        "id": "bJubq0EA2fIy"
      }
    },
    {
      "cell_type": "markdown",
      "source": [
        "# Week 4"
      ],
      "metadata": {
        "id": "pjgCDJ1Z2fZ8"
      }
    },
    {
      "cell_type": "markdown",
      "source": [
        "# Week 5"
      ],
      "metadata": {
        "id": "G0T3Xvd22f5d"
      }
    }
  ]
}